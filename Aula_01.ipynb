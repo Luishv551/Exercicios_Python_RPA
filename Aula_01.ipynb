{
 "cells": [
  {
   "cell_type": "code",
   "execution_count": null,
   "id": "d0c819b4",
   "metadata": {},
   "outputs": [],
   "source": [
    "import pyautogui as posabrearq\n",
    "\n",
    "posabrearq.hotkey('win', 'r')\n",
    "\n",
    "\n",
    "posabrearq.typewrite('notepad')\n",
    "\n",
    "posabrearq.press('enter')\n",
    "\n",
    "\n",
    "fecharjanela = posabrearq.getActiveWindow()\n",
    "fecharjanela.close()\n",
    "\n",
    "posabrearq.press ('tab')\n",
    "posabrearq.press('enter')"
   ]
  },
  {
   "cell_type": "code",
   "execution_count": null,
   "id": "518ae5c9",
   "metadata": {},
   "outputs": [],
   "source": []
  },
  {
   "cell_type": "code",
   "execution_count": null,
   "id": "e839d476",
   "metadata": {},
   "outputs": [],
   "source": []
  }
 ],
 "metadata": {
  "kernelspec": {
   "display_name": "Python 3 (ipykernel)",
   "language": "python",
   "name": "python3"
  },
  "language_info": {
   "codemirror_mode": {
    "name": "ipython",
    "version": 3
   },
   "file_extension": ".py",
   "mimetype": "text/x-python",
   "name": "python",
   "nbconvert_exporter": "python",
   "pygments_lexer": "ipython3",
   "version": "3.9.13"
  }
 },
 "nbformat": 4,
 "nbformat_minor": 5
}
