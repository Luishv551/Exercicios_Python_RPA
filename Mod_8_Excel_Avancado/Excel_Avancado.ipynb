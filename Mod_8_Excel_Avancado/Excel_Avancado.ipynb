{
 "cells": [
  {
   "cell_type": "code",
   "execution_count": 2,
   "id": "6bab61c4",
   "metadata": {},
   "outputs": [
    {
     "name": "stdout",
     "output_type": "stream",
     "text": [
      "Requirement already satisfied: openpyxl in c:\\users\\luish\\anaconda3\\lib\\site-packages (3.0.10)\n",
      "Requirement already satisfied: et_xmlfile in c:\\users\\luish\\anaconda3\\lib\\site-packages (from openpyxl) (1.1.0)\n"
     ]
    }
   ],
   "source": [
    "!pip install openpyxl\n"
   ]
  },
  {
   "cell_type": "code",
   "execution_count": 13,
   "id": "2f7dd06e",
   "metadata": {},
   "outputs": [
    {
     "name": "stdout",
     "output_type": "stream",
     "text": [
      "Amanda Martins\n",
      "Eliane Moreira\n",
      "Eliane Moreira\n",
      "Eliane Moreira\n",
      "Eliane Moreira\n",
      "Leonardo Almeida\n",
      "Leonardo Almeida\n",
      "Leonardo Almeida\n",
      "Leonardo Almeida\n",
      "Nicolas Pereira\n",
      "Nicolas Pereira\n"
     ]
    }
   ],
   "source": [
    "from openpyxl import load_workbook\n",
    "import os\n",
    "\n",
    "nome_arquivo = \"C:\\\\Users\\\\luish\\\\Curso_RPA\\\\Mod_8_Excel_Avancado\\\\Quebrar.xlsx\"\n",
    "planilha_aberta = load_workbook(nome_arquivo)\n",
    "\n",
    "sheet_selecionada = planilha_aberta['Dados']\n",
    "\n",
    "nome_novo = \"\"\n",
    "totallinhas = len(sheet_selecionada['A']) + 1\n",
    "\n",
    "for linha in range(2, totallinhas):\n",
    "    nome_atual = sheet_selecionada['A{}'.format(linha)].value\n",
    "    \n",
    "    if nome_novo == nome_atual:\n",
    "        print(nome_novo)\n",
    "    else:\n",
    "        sheet_resumo = planilha_aberta.create_sheet(title=nome_atual)\n",
    "        sheet_selecionada2 = planilha_aberta[nome_atual]\n",
    "        nome_novo = nome_atual\n",
    "        \n",
    "        sheet_selecionada2 ['A1'] = \"Vendedor\"\n",
    "        sheet_selecionada2 ['B1'] = \"Produtos\"\n",
    "        sheet_selecionada2 ['C1'] = \"Vendas\"\n",
    "        \n",
    "        sheet_selecionada2 ['A2'] = sheet_selecionada['A{}'.format(linha)].value\n",
    "        sheet_selecionada2 ['B2'] = sheet_selecionada['B{}'.format(linha)].value\n",
    "        sheet_selecionada2 ['C2'] = sheet_selecionada['C{}'.format(linha)].value\n",
    "\n",
    "planilha_aberta.save(nome_arquivo)\n",
    "\n",
    "os.startfile(nome_arquivo)\n",
    "\n"
   ]
  }
 ],
 "metadata": {
  "kernelspec": {
   "display_name": "Python 3 (ipykernel)",
   "language": "python",
   "name": "python3"
  },
  "language_info": {
   "codemirror_mode": {
    "name": "ipython",
    "version": 3
   },
   "file_extension": ".py",
   "mimetype": "text/x-python",
   "name": "python",
   "nbconvert_exporter": "python",
   "pygments_lexer": "ipython3",
   "version": "3.9.13"
  }
 },
 "nbformat": 4,
 "nbformat_minor": 5
}
