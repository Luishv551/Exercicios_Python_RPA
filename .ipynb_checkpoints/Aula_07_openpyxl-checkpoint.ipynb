{
 "cells": [
  {
   "cell_type": "code",
   "execution_count": 2,
   "id": "ebc554bd",
   "metadata": {},
   "outputs": [
    {
     "name": "stdout",
     "output_type": "stream",
     "text": [
      "Requirement already satisfied: openpyxl in c:\\users\\luish\\anaconda3\\lib\\site-packages (3.0.10)\n",
      "Requirement already satisfied: et_xmlfile in c:\\users\\luish\\anaconda3\\lib\\site-packages (from openpyxl) (1.1.0)\n"
     ]
    }
   ],
   "source": [
    "!pip install openpyxl"
   ]
  },
  {
   "cell_type": "code",
   "execution_count": 9,
   "id": "2bb06d69",
   "metadata": {},
   "outputs": [],
   "source": [
    "from openpyxl import load_workbook\n",
    "import os\n",
    "\n",
    "caminho_nome_arquivo = \"C:\\\\Users\\\\luish\\\\Curso_RPA\\\\openpyxl\\\\DeletarLinhaColuna.xlsx\"\n",
    "\n",
    "planilha_aberta =  load_workbook(filename = caminho_nome_arquivo)\n",
    "\n",
    "sheet_selecionada = planilha_aberta['Aluno']\n",
    "\n",
    "sheet_selecionada.delete_rows(3)\n",
    "sheet_selecionada.delete_rows(3)\n",
    "sheet_selecionada.delete_rows(5)\n",
    "\n",
    "sheet_selecionada.delete_cols(2)\n",
    "\n",
    "planilha_aberta.save(filename = caminho_nome_arquivo)\n"
   ]
  },
  {
   "cell_type": "code",
   "execution_count": 10,
   "id": "b0441e7f",
   "metadata": {},
   "outputs": [],
   "source": [
    "from openpyxl import load_workbook\n",
    "import os\n",
    "\n",
    "caminho_nome_arquivo = \"C:\\\\Users\\\\luish\\\\Curso_RPA\\\\openpyxl\\\\InserirDados.xlsx\"\n",
    "planilha_aberta = load_workbook(filename=caminho_nome_arquivo)\n",
    "\n",
    "#Seleciona a sheet de Professor\n",
    "sheet_selecionada = planilha_aberta['Aluno']\n",
    "\n",
    "#Popula as informações que vão para a planilha\n",
    "dadosTabela = [\n",
    "    ['Nome', 'Idade'],\n",
    "    ['Berenice', 28],\n",
    "    ['Caio', 32],\n",
    "    ['Nicole', 34],\n",
    "    ['Leonardo', 19],\n",
    "    ['Amanda', 25]\n",
    "]\n",
    "\n",
    "#O append pega toda a lista e passa para a sheet\n",
    "for linhaPlanilha in dadosTabela:\n",
    "    sheet_selecionada.append(linhaPlanilha)\n",
    "\n",
    "#Salva a planilha com as alterações\n",
    "planilha_aberta.save(filename=caminho_nome_arquivo)\n",
    "\n",
    "#Abre a planilha\n",
    "os.startfile(caminho_nome_arquivo)"
   ]
  }
 ],
 "metadata": {
  "kernelspec": {
   "display_name": "Python 3 (ipykernel)",
   "language": "python",
   "name": "python3"
  },
  "language_info": {
   "codemirror_mode": {
    "name": "ipython",
    "version": 3
   },
   "file_extension": ".py",
   "mimetype": "text/x-python",
   "name": "python",
   "nbconvert_exporter": "python",
   "pygments_lexer": "ipython3",
   "version": "3.9.13"
  }
 },
 "nbformat": 4,
 "nbformat_minor": 5
}
