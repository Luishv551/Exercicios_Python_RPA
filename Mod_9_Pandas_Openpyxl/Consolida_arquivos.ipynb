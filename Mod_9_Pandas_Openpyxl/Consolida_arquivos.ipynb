{
 "cells": [
  {
   "cell_type": "code",
   "execution_count": null,
   "id": "eb4a5e31",
   "metadata": {},
   "outputs": [],
   "source": [
    "!pip install pandas"
   ]
  },
  {
   "cell_type": "code",
   "execution_count": 17,
   "id": "2d1db59c",
   "metadata": {},
   "outputs": [
    {
     "name": "stderr",
     "output_type": "stream",
     "text": [
      "C:\\Users\\luish\\AppData\\Local\\Temp\\ipykernel_29388\\1161074530.py:17: FutureWarning: The frame.append method is deprecated and will be removed from pandas in a future version. Use pandas.concat instead.\n",
      "  dados_arquivo = dados_arquivo.append(dados)\n",
      "C:\\Users\\luish\\AppData\\Local\\Temp\\ipykernel_29388\\1161074530.py:17: FutureWarning: The frame.append method is deprecated and will be removed from pandas in a future version. Use pandas.concat instead.\n",
      "  dados_arquivo = dados_arquivo.append(dados)\n",
      "C:\\Users\\luish\\AppData\\Local\\Temp\\ipykernel_29388\\1161074530.py:17: FutureWarning: The frame.append method is deprecated and will be removed from pandas in a future version. Use pandas.concat instead.\n",
      "  dados_arquivo = dados_arquivo.append(dados)\n",
      "C:\\Users\\luish\\AppData\\Local\\Temp\\ipykernel_29388\\1161074530.py:17: FutureWarning: The frame.append method is deprecated and will be removed from pandas in a future version. Use pandas.concat instead.\n",
      "  dados_arquivo = dados_arquivo.append(dados)\n"
     ]
    }
   ],
   "source": [
    "import pandas as pd\n",
    "import os\n",
    "\n",
    "caminho_arquivos = r\"C:\\Users\\luish\\Curso_RPA\\Mod_9_Pandas_Openpyxl\\Consolidando_arquivos\\Excel\"\n",
    "lista_arquivos = os.listdir(caminho_arquivos)\n",
    "\n",
    "# print(lista_arquivos)\n",
    "\n",
    "lista_caminhos_excel = [caminho_arquivos + '\\\\' + arquivo for arquivo in lista_arquivos if arquivo[-4:] == 'xlsx']\n",
    "\n",
    "# print(lista_caminhos_excel)\n",
    "\n",
    "dados_arquivo = pd.DataFrame()\n",
    "\n",
    "for arquivo in lista_caminhos_excel:\n",
    "    dados = pd.read_excel(arquivo)\n",
    "    dados_arquivo = dados_arquivo.append(dados)\n",
    "\n",
    "dados_arquivo.to_excel(r\"C:\\Users\\luish\\Curso_RPA\\Mod_9_Pandas_Openpyxl\\Consolidando_arquivos\\Excel\\Consolidado.xlsx\")\n"
   ]
  }
 ],
 "metadata": {
  "kernelspec": {
   "display_name": "Python 3 (ipykernel)",
   "language": "python",
   "name": "python3"
  },
  "language_info": {
   "codemirror_mode": {
    "name": "ipython",
    "version": 3
   },
   "file_extension": ".py",
   "mimetype": "text/x-python",
   "name": "python",
   "nbconvert_exporter": "python",
   "pygments_lexer": "ipython3",
   "version": "3.9.13"
  }
 },
 "nbformat": 4,
 "nbformat_minor": 5
}
