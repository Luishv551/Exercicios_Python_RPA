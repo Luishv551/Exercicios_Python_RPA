{
 "cells": [
  {
   "cell_type": "code",
   "execution_count": 10,
   "id": "b824c8a5",
   "metadata": {},
   "outputs": [],
   "source": [
    "from selenium import webdriver as opcoesSelenium\n",
    "from selenium.webdriver.common.keys import Keys\n",
    "from selenium.webdriver.common.by import By\n",
    "import pyautogui as tempoEspera\n",
    "\n",
    "navegadorFormulario = opcoesSelenium.Chrome()\n",
    "navegadorFormulario.get(\"https://pt.surveymonkey.com/r/Y9Y6FFR\")\n",
    "\n",
    "#ENCONTRANDO O ELEMENTO NO SITE E PREENCHENDO A INFORMAÇÃO NOME\n",
    "navegadorFormulario.find_element(By.NAME, \"683928983\").send_keys(\"Luis Santos\")\n",
    "\n",
    "#ENCONTRANDO O ELEMENTO NO SITE E PREENCHENDO A INFORMAÇÃO EMAIL\n",
    "navegadorFormulario.find_element(By.NAME, \"683932318\").send_keys(\"luishv551@gmail.com\")\n",
    "\n",
    "#ENCONTRANDO O ELEMENTO NO SITE E PREENCHENDO A INFORMAÇÃO TELEFONE\n",
    "navegadorFormulario.find_element(By.NAME, \"683930688\").send_keys(\"(41) 999834765\")\n",
    "\n",
    "#ENCONTRANDO O ELEMENTO NO SITE E PREENCHENDO A INFORMAÇÃO FALE SOBRE VOCE\n",
    "navegadorFormulario.find_element(By.NAME, \"683932969\").send_keys(\"Sei programar em Python\")\n",
    "\n",
    "#ENCONTRANDO O ELEMENTO NO SITE E SELECIONANDO O SEXO MASCULINO\n",
    "navegadorFormulario.find_element(By.ID, \"683931881_4497366118_label\").click()\n",
    "\n",
    "#AGUARDAR UM POUCO\n",
    "tempoEspera.sleep(2)\n",
    "\n",
    "#ENCONTRANDO O ELEMENTO NO SITE E CLICANDO NO BOTÃO DE ENVIAR\n",
    "navegadorFormulario.find_element(By.XPATH, '//*[@id=\"patas\"]/main/article/section/form/div[2]/button').click()"
   ]
  }
 ],
 "metadata": {
  "kernelspec": {
   "display_name": "Python 3 (ipykernel)",
   "language": "python",
   "name": "python3"
  },
  "language_info": {
   "codemirror_mode": {
    "name": "ipython",
    "version": 3
   },
   "file_extension": ".py",
   "mimetype": "text/x-python",
   "name": "python",
   "nbconvert_exporter": "python",
   "pygments_lexer": "ipython3",
   "version": "3.9.13"
  }
 },
 "nbformat": 4,
 "nbformat_minor": 5
}
